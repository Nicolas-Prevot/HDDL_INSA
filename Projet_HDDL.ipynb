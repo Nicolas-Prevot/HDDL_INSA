{
 "cells": [
  {
   "cell_type": "markdown",
   "metadata": {},
   "source": [
    "# HDDL Project - Generative Inpainting\n",
    "\n",
    "Juan AYALA, Jeong Hwan KO, Aldo MELLADO AGUILAR, Alice LALOUE, Nicolas PREVOT - 5MA\n",
    "\n",
    "\n",
    "\n",
    "Inpainting is a technique to reconstruct an image from a corrupted version of it. For example, if an image is corrupted by removing a part of it, we can try to reconstruct the image by filling the missing part in.\n",
    "\n",
    "In the case where we can obtain a direct copy of the missing data, inpainting is a very simple task. However, in the case where we cannot obtain a direct copy of the missing data, inpainting is a much more complex task, since the missing data has to be constructed.\n",
    "\n",
    "In this project, we will use the [Generative Inpainting](https://arxiv.org/abs/1801.07892) technique to reconstruct images from corrupted versions of them.\n",
    "\n",
    "The main idea is to use a generative model to generate the missing data. The generative model is trained to generate the missing data from a corrupted version of the image.\n",
    "\n",
    "Please find below the pip command to install the required packages.\n",
    "\n"
   ]
  },
  {
   "cell_type": "code",
   "execution_count": 2,
   "metadata": {},
   "outputs": [
    {
     "name": "stderr",
     "output_type": "stream",
     "text": [
      "DEPRECATION: Python 3.5 reached the end of its life on September 13th, 2020. Please upgrade your Python as Python 3.5 is no longer maintained. pip 21.0 will drop support for Python 3.5 in January 2021. pip 21.0 will remove support for this functionality.\n",
      "ERROR: Invalid requirement: '_tflow_select=2.3.0=mkl' (from line 4 of requirements.txt)\n",
      "Hint: = is not a valid operator. Did you mean == ?\n"
     ]
    }
   ],
   "source": [
    "!pip install -r requirements.txt"
   ]
  },
  {
   "cell_type": "markdown",
   "metadata": {},
   "source": [
    "## Download the pretrained model\n",
    "\n",
    "In order to use the pretrained model, we need to download it from Google Drive and extract it to **\\/model_logs}**. The url is available [here](https://drive.google.com/drive/folders/1uvcDgMer-4hgWlm6_G9xjvEQGP8neW15).\n",
    "\n",
    "The database here is the CelebFaces Attributes dataset (CelebA).It is a large-scale dataset of over 200,000 celebrity images with annotations. There is a higher resolution version of the CelebA dataset, called CelebA-HQ, which contains over 10,000 images per person. The model was trained on CelebA-HQ.\n",
    "\n",
    "There is another dataset available called Places2, which contains images of places. If you want to test this model, please download the Places2 dataset pretrained model from [here](https://drive.google.com/drive/folders/1y7Irxm3HSHGvp546hZdAZwuNmhLUVcjO)."
   ]
  },
  {
   "cell_type": "markdown",
   "metadata": {},
   "source": [
    "## Import the required packages"
   ]
  },
  {
   "cell_type": "code",
   "execution_count": 3,
   "metadata": {},
   "outputs": [
    {
     "name": "stdout",
     "output_type": "stream",
     "text": [
      "WARNING:tensorflow:From C:\\Users\\Joan\\anaconda3\\envs\\SC-FEGAN\\lib\\site-packages\\tensorflow\\contrib\\learn\\python\\learn\\datasets\\base.py:198: retry (from tensorflow.contrib.learn.python.learn.datasets.base) is deprecated and will be removed in a future version.\n",
      "Instructions for updating:\n",
      "Use the retry module or similar alternatives.\n"
     ]
    }
   ],
   "source": [
    "import cv2\n",
    "import numpy as np\n",
    "import tensorflow as tf\n",
    "import neuralgym as ng\n",
    "import matplotlib.pyplot as plt\n",
    "from inpaint_model import InpaintCAModel"
   ]
  },
  {
   "cell_type": "code",
   "execution_count": 4,
   "metadata": {},
   "outputs": [],
   "source": [
    "def generative_inpainting(image_path, mask_path):\n",
    "    FLAGS = ng.Config('inpaint.yml')\n",
    "    checkpoint_dir = 'model_logs'\n",
    "    model = InpaintCAModel()\n",
    "    image = cv2.imread(image_path)\n",
    "    mask = cv2.imread(mask_path)\n",
    "    assert image.shape == mask.shape\n",
    "    h, w, _ = image.shape\n",
    "    grid = 8\n",
    "    image = image[:h//grid*grid, :w//grid*grid, :]\n",
    "    mask = mask[:h//grid*grid, :w//grid*grid, :]\n",
    "    image = np.expand_dims(image, 0)\n",
    "    mask = np.expand_dims(mask, 0)\n",
    "    input_image = np.concatenate([image, mask], axis=2)\n",
    "    sess_config = tf.ConfigProto()\n",
    "    sess_config.gpu_options.allow_growth = True\n",
    "    with tf.Session(config=sess_config) as sess:\n",
    "        input_image = tf.constant(input_image, dtype=tf.float32)\n",
    "        output = model.build_server_graph(FLAGS, input_image)\n",
    "        output = (output + 1.) * 127.5\n",
    "        output = tf.reverse(output, [-1])\n",
    "        output = tf.saturate_cast(output, tf.uint8)\n",
    "        # load pretrained model\n",
    "        vars_list = tf.get_collection(tf.GraphKeys.GLOBAL_VARIABLES)\n",
    "        assign_ops = []\n",
    "        for var in vars_list:       \n",
    "            vname = var.name\n",
    "            from_name = vname\n",
    "            var_value = tf.contrib.framework.load_variable(checkpoint_dir, from_name)\n",
    "            assign_ops.append(tf.assign(var, var_value))\n",
    "        sess.run(assign_ops)\n",
    "        result = sess.run(output)\n",
    "        return result[0][:, :, ::-1]"
   ]
  },
  {
   "cell_type": "markdown",
   "metadata": {},
   "source": [
    "## Testing images.\n",
    "\n",
    "Since we have trained the model on CelebA-HQ, we need to test it on human faces to test the model.\n",
    "We have decided to apply our model on the face of Franck Ribéry, a famous French football player. When he was two years old, he and his family were involed in a car crash where he suffeed facial injuries that resulted in more than 100 stitches and two long scars on his face. \n",
    "\n",
    "![alt text](case1_raw.png \"Title\")\n",
    "\n",
    "Our goal is to reconstruct the face of Franck Ribéry by removing artificially his scars."
   ]
  },
  {
   "cell_type": "code",
   "execution_count": null,
   "metadata": {},
   "outputs": [],
   "source": []
  }
 ],
 "metadata": {
  "interpreter": {
   "hash": "38f2b83f9a2bbb1f48fcccc0d926206ab90e06d879b779d9308947d4529599fe"
  },
  "kernelspec": {
   "display_name": "Python 3.5.6 64-bit ('SC-FEGAN': conda)",
   "language": "python",
   "name": "python3"
  },
  "language_info": {
   "codemirror_mode": {
    "name": "ipython",
    "version": 3
   },
   "file_extension": ".py",
   "mimetype": "text/x-python",
   "name": "python",
   "nbconvert_exporter": "python",
   "pygments_lexer": "ipython3",
   "version": "3.5.6"
  },
  "orig_nbformat": 4
 },
 "nbformat": 4,
 "nbformat_minor": 2
}
